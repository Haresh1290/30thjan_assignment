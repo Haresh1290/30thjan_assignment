{
 "cells": [
  {
   "cell_type": "code",
   "execution_count": 1,
   "id": "ae21fca8-e99a-45d6-97c7-b0b9daf941ba",
   "metadata": {},
   "outputs": [
    {
     "name": "stdin",
     "output_type": "stream",
     "text": [
      "Enter your mark  34\n"
     ]
    },
    {
     "name": "stdout",
     "output_type": "stream",
     "text": [
      "You got D grade\n"
     ]
    }
   ],
   "source": [
    "# problem 1\n",
    "marks=int(input(\"Enter your mark \"))\n",
    "if marks>=90: \n",
    "    print(\"You got A grade\")\n",
    "elif marks>=80 and marks<=90:\n",
    "    print(\"You got B grade\")\n",
    "elif marks>=60 and marks<=80:\n",
    "    print(\"You got C grade\")\n",
    "else:\n",
    "    print(\"You got D grade\")"
   ]
  },
  {
   "cell_type": "code",
   "execution_count": 3,
   "id": "3ca60004-a0f2-490b-a387-798fcfc8b224",
   "metadata": {},
   "outputs": [
    {
     "name": "stdin",
     "output_type": "stream",
     "text": [
      "Enter the price of bike 80000\n"
     ]
    },
    {
     "name": "stdout",
     "output_type": "stream",
     "text": [
      "Tax will be 10%\n"
     ]
    }
   ],
   "source": [
    "# Problem 2\n",
    "price = int(input(\"Enter the price of bike\"))\n",
    "if price > 100000 :\n",
    "    print(\"Tax will be 15%\")\n",
    "if price > 50000 and price <= 100000 :\n",
    "     print(\"Tax will be 10%\")\n",
    "elif price <= 50000 : \n",
    "     print(\"tax will be 5%\")"
   ]
  },
  {
   "cell_type": "code",
   "execution_count": 7,
   "id": "c281b22c-2a53-485c-8483-200433c975bc",
   "metadata": {},
   "outputs": [
    {
     "name": "stdin",
     "output_type": "stream",
     "text": [
      "Enter a city mumbai\n"
     ]
    },
    {
     "name": "stdout",
     "output_type": "stream",
     "text": [
      "Enter a valid city\n"
     ]
    }
   ],
   "source": [
    "# problem 3\n",
    "city_name = input(\"Enter a city\")\n",
    "if city_name.upper() == \"DELHI\":\n",
    "    print(\"Red Fort\")\n",
    "elif city_name.upper() == \"AGRA\":\n",
    "    print(\"Taj Mahal\")\n",
    "elif city_name.upper() == \"JAIPUR\":\n",
    "    print(\"Jal Mahal\")\n",
    "else:\n",
    "    print(\"Enter a valid city\")"
   ]
  },
  {
   "cell_type": "code",
   "execution_count": null,
   "id": "90c0c2fb-987d-41fb-88f8-85e3b6587aa7",
   "metadata": {},
   "outputs": [],
   "source": [
    "#problem 4\n",
    "n = int(input(\"Enter your number\"))\n",
    "i = 1ss\n",
    "\n",
    "while i <= 10 :\n",
    "    result = n / 3\n",
    "    print(result)\n",
    "    i = i + 1"
   ]
  },
  {
   "cell_type": "code",
   "execution_count": 12,
   "id": "cdfb662e-2ec2-4151-b822-051023b1a243",
   "metadata": {},
   "outputs": [
    {
     "name": "stdout",
     "output_type": "stream",
     "text": [
      "1\n",
      "2\n",
      "3\n",
      "4\n",
      "5\n"
     ]
    }
   ],
   "source": [
    "#problem 5\n",
    "#A \"While\" Loop is used to repeat a specific block of code an unknown number of times, until a condition is met.\n",
    "\"\"\"A while loop evaluates the condition\n",
    "If the condition evaluates to True, the code inside the while loop is executed.\n",
    "condition is evaluated again.\n",
    "This process continues until the condition is False.\n",
    "When condition evaluates to False, the loop stops.\"\"\"\n",
    "\n",
    "# program to display numbers from 1 to 5\n",
    "# initialize the variable\n",
    "i = 1\n",
    "n = 5\n",
    "\n",
    "# while loop from i = 1 to 5\n",
    "while i <= n:\n",
    "    print(i)\n",
    "    i = i + 1"
   ]
  },
  {
   "cell_type": "code",
   "execution_count": 19,
   "id": "5d27e2f3-e0d4-4293-bb11-f4dc8db8611e",
   "metadata": {},
   "outputs": [
    {
     "name": "stdin",
     "output_type": "stream",
     "text": [
      "Enter number of rows :  7\n"
     ]
    },
    {
     "name": "stdout",
     "output_type": "stream",
     "text": [
      "* \n",
      "* * \n",
      "* * * \n",
      "* * * * \n",
      "* * * * * \n",
      "* * * * * * \n",
      "* * * * * * * \n"
     ]
    }
   ],
   "source": [
    "#problem 6 (1) right triangle\n",
    "n = int(input('Enter number of rows : '))\n",
    "\n",
    "i = 1\n",
    "while i <= n :\n",
    "    j = 1\n",
    "    while j <= i:\n",
    "        print(\"*\", end = \" \")\n",
    "        j += 1\n",
    "    print()\n",
    "    i += 1\n"
   ]
  },
  {
   "cell_type": "code",
   "execution_count": 21,
   "id": "78b4c951-26bc-4a1d-88e2-6f5c72c2148f",
   "metadata": {},
   "outputs": [
    {
     "name": "stdin",
     "output_type": "stream",
     "text": [
      "Enter number of rows :  7\n"
     ]
    },
    {
     "name": "stdout",
     "output_type": "stream",
     "text": [
      "* * * * * * * \n",
      "* * * * * * \n",
      "* * * * * \n",
      "* * * * \n",
      "* * * \n",
      "* * \n",
      "* \n"
     ]
    }
   ],
   "source": [
    "#problem 6(2) inverted right triangle\n",
    "n = int(input('Enter number of rows : '))\n",
    " \n",
    "i = 1\n",
    "while i <= n :\n",
    "    j = n\n",
    "    while j >= i:\n",
    "        print(\"*\", end = \" \")\n",
    "        j -= 1\n",
    "    print()\n",
    "    i += 1"
   ]
  },
  {
   "cell_type": "code",
   "execution_count": 37,
   "id": "fff2ccd0-8d80-412c-bf44-081dc16535e1",
   "metadata": {
    "tags": []
   },
   "outputs": [
    {
     "name": "stdout",
     "output_type": "stream",
     "text": [
      "1 2 3 4 5 \n",
      "2 2 3 4 5 \n",
      "3 3 3 4 5 \n",
      "4 4 4 4 5 \n",
      "5 5 5 5 5 \n"
     ]
    }
   ],
   "source": [
    "#problem 6(3) squre patter\n",
    "rows = 5\n",
    "for i in range(1, rows + 1):\n",
    "    for j in range(1, rows + 1):\n",
    "        if j <= i:\n",
    "            print(i, end=' ')\n",
    "        else:\n",
    "            print(j, end=' ')\n",
    "    print()"
   ]
  },
  {
   "cell_type": "code",
   "execution_count": 23,
   "id": "d285885e-32e8-49d2-a299-52bc8e3ad765",
   "metadata": {},
   "outputs": [
    {
     "name": "stdout",
     "output_type": "stream",
     "text": [
      "10\n",
      "9\n",
      "8\n",
      "7\n",
      "6\n",
      "5\n",
      "4\n",
      "3\n",
      "2\n",
      "1\n"
     ]
    }
   ],
   "source": [
    "# problem 7 \n",
    "i = 10\n",
    "while i > 0:\n",
    "    print(i)\n",
    "    i = i - 1"
   ]
  },
  {
   "cell_type": "code",
   "execution_count": null,
   "id": "b0fbf9de-41fb-4444-9ab9-e6f72780cb0a",
   "metadata": {},
   "outputs": [],
   "source": [
    "# problem 8 \n",
    "i = 10\n",
    "while i > 0:\n",
    "    print(i)\n",
    "    i = i - 1"
   ]
  },
  {
   "cell_type": "code",
   "execution_count": null,
   "id": "c3bb837c-bb80-4237-adb7-86f5e0038354",
   "metadata": {},
   "outputs": [],
   "source": []
  }
 ],
 "metadata": {
  "kernelspec": {
   "display_name": "Python 3 (ipykernel)",
   "language": "python",
   "name": "python3"
  },
  "language_info": {
   "codemirror_mode": {
    "name": "ipython",
    "version": 3
   },
   "file_extension": ".py",
   "mimetype": "text/x-python",
   "name": "python",
   "nbconvert_exporter": "python",
   "pygments_lexer": "ipython3",
   "version": "3.10.8"
  }
 },
 "nbformat": 4,
 "nbformat_minor": 5
}
